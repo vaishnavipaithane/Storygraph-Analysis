{
 "cells": [
  {
   "cell_type": "code",
   "execution_count": 1,
   "id": "4e7228e7-a0bd-4a43-8d1f-c444ac45b5ce",
   "metadata": {
    "scrolled": true
   },
   "outputs": [
    {
     "name": "stdout",
     "output_type": "stream",
     "text": [
      "Requirement already satisfied: pandas in c:\\users\\vaish\\anaconda3\\envs\\storygraph_env\\lib\\site-packages (2.2.3)\n",
      "Requirement already satisfied: numpy>=1.26.0 in c:\\users\\vaish\\anaconda3\\envs\\storygraph_env\\lib\\site-packages (from pandas) (2.2.3)\n",
      "Requirement already satisfied: python-dateutil>=2.8.2 in c:\\users\\vaish\\anaconda3\\envs\\storygraph_env\\lib\\site-packages (from pandas) (2.9.0.post0)\n",
      "Requirement already satisfied: pytz>=2020.1 in c:\\users\\vaish\\anaconda3\\envs\\storygraph_env\\lib\\site-packages (from pandas) (2025.1)\n",
      "Requirement already satisfied: tzdata>=2022.7 in c:\\users\\vaish\\anaconda3\\envs\\storygraph_env\\lib\\site-packages (from pandas) (2025.1)\n",
      "Requirement already satisfied: six>=1.5 in c:\\users\\vaish\\anaconda3\\envs\\storygraph_env\\lib\\site-packages (from python-dateutil>=2.8.2->pandas) (1.16.0)\n",
      "Note: you may need to restart the kernel to use updated packages.\n"
     ]
    }
   ],
   "source": [
    "pip install pandas"
   ]
  },
  {
   "cell_type": "code",
   "execution_count": 2,
   "id": "34176672-e7f1-4c6a-8bce-fd466be49248",
   "metadata": {},
   "outputs": [],
   "source": [
    "import pandas as pd"
   ]
  },
  {
   "cell_type": "code",
   "execution_count": 3,
   "id": "7bbff53b-4c90-46c7-ab92-c50fcd68d299",
   "metadata": {},
   "outputs": [
    {
     "name": "stdout",
     "output_type": "stream",
     "text": [
      "C:\\Users\\vaish\\anaconda3\\envs\\storygraph_env\\python.exe\n",
      "C:\\Users\\vaish\\anaconda3\\python.exe\n",
      "C:\\Users\\vaish\\AppData\\Local\\Microsoft\\WindowsApps\\python.exe\n"
     ]
    }
   ],
   "source": [
    "!where python"
   ]
  },
  {
   "cell_type": "code",
   "execution_count": 4,
   "id": "c84c8c5e-e154-4e24-8da1-56a7488bf0c0",
   "metadata": {},
   "outputs": [
    {
     "name": "stdout",
     "output_type": "stream",
     "text": [
      "C:\\Users\\vaish\n"
     ]
    }
   ],
   "source": [
    "import os\n",
    "print(os.getcwd())"
   ]
  },
  {
   "cell_type": "code",
   "execution_count": 5,
   "id": "c6d32c3c-0f7e-429e-8145-d58462231995",
   "metadata": {},
   "outputs": [
    {
     "name": "stdout",
     "output_type": "stream",
     "text": [
      "C:\\Users\\vaish\\Desktop\\Data analytics\\Storygraph_Project\n"
     ]
    }
   ],
   "source": [
    "os.chdir(\"C:/Users/vaish/Desktop/Data analytics/Storygraph_Project\")\n",
    "print(os.getcwd())"
   ]
  },
  {
   "cell_type": "code",
   "execution_count": 6,
   "id": "f6e523e3-34f5-4761-9951-2a0dca76faee",
   "metadata": {},
   "outputs": [],
   "source": [
    "df = pd.read_csv(\"storygraph.csv\")"
   ]
  },
  {
   "cell_type": "code",
   "execution_count": 7,
   "id": "c8c0cab6-8068-4b1e-9701-1d75b28dbeb6",
   "metadata": {},
   "outputs": [
    {
     "data": {
      "text/html": [
       "<div>\n",
       "<style scoped>\n",
       "    .dataframe tbody tr th:only-of-type {\n",
       "        vertical-align: middle;\n",
       "    }\n",
       "\n",
       "    .dataframe tbody tr th {\n",
       "        vertical-align: top;\n",
       "    }\n",
       "\n",
       "    .dataframe thead th {\n",
       "        text-align: right;\n",
       "    }\n",
       "</style>\n",
       "<table border=\"1\" class=\"dataframe\">\n",
       "  <thead>\n",
       "    <tr style=\"text-align: right;\">\n",
       "      <th></th>\n",
       "      <th>Title</th>\n",
       "      <th>Authors</th>\n",
       "      <th>Contributors</th>\n",
       "      <th>ISBN/UID</th>\n",
       "      <th>Format</th>\n",
       "      <th>Read Status</th>\n",
       "      <th>Date Added</th>\n",
       "      <th>Last Date Read</th>\n",
       "      <th>Dates Read</th>\n",
       "      <th>Read Count</th>\n",
       "      <th>...</th>\n",
       "      <th>Strong Character Development?</th>\n",
       "      <th>Loveable Characters?</th>\n",
       "      <th>Diverse Characters?</th>\n",
       "      <th>Flawed Characters?</th>\n",
       "      <th>Star Rating</th>\n",
       "      <th>Review</th>\n",
       "      <th>Content Warnings</th>\n",
       "      <th>Content Warning Description</th>\n",
       "      <th>Tags</th>\n",
       "      <th>Owned?</th>\n",
       "    </tr>\n",
       "  </thead>\n",
       "  <tbody>\n",
       "    <tr>\n",
       "      <th>0</th>\n",
       "      <td>Tomorrow, and Tomorrow, and Tomorrow</td>\n",
       "      <td>Gabrielle Zevin</td>\n",
       "      <td>NaN</td>\n",
       "      <td>9780735243354</td>\n",
       "      <td>digital</td>\n",
       "      <td>read</td>\n",
       "      <td>2024/10/30</td>\n",
       "      <td>2024/10/30</td>\n",
       "      <td>2024/09/20-2024/10/30</td>\n",
       "      <td>1</td>\n",
       "      <td>...</td>\n",
       "      <td>NaN</td>\n",
       "      <td>NaN</td>\n",
       "      <td>NaN</td>\n",
       "      <td>NaN</td>\n",
       "      <td>NaN</td>\n",
       "      <td>NaN</td>\n",
       "      <td>NaN</td>\n",
       "      <td>NaN</td>\n",
       "      <td>NaN</td>\n",
       "      <td>No</td>\n",
       "    </tr>\n",
       "    <tr>\n",
       "      <th>1</th>\n",
       "      <td>Dark Matter</td>\n",
       "      <td>Blake Crouch</td>\n",
       "      <td>NaN</td>\n",
       "      <td>NaN</td>\n",
       "      <td>digital</td>\n",
       "      <td>read</td>\n",
       "      <td>2023/05/13</td>\n",
       "      <td>2023/12/30</td>\n",
       "      <td>2023/12/30</td>\n",
       "      <td>1</td>\n",
       "      <td>...</td>\n",
       "      <td>NaN</td>\n",
       "      <td>NaN</td>\n",
       "      <td>NaN</td>\n",
       "      <td>NaN</td>\n",
       "      <td>4.0</td>\n",
       "      <td>NaN</td>\n",
       "      <td>NaN</td>\n",
       "      <td>NaN</td>\n",
       "      <td>NaN</td>\n",
       "      <td>No</td>\n",
       "    </tr>\n",
       "    <tr>\n",
       "      <th>2</th>\n",
       "      <td>Where the Crawdads Sing</td>\n",
       "      <td>Delia Owens</td>\n",
       "      <td>Cassandra Campbell (Narrator)</td>\n",
       "      <td>9780525640370</td>\n",
       "      <td>audio</td>\n",
       "      <td>read</td>\n",
       "      <td>2023/12/06</td>\n",
       "      <td>2024/01/30</td>\n",
       "      <td>2024/01/30</td>\n",
       "      <td>1</td>\n",
       "      <td>...</td>\n",
       "      <td>NaN</td>\n",
       "      <td>NaN</td>\n",
       "      <td>NaN</td>\n",
       "      <td>NaN</td>\n",
       "      <td>5.0</td>\n",
       "      <td>NaN</td>\n",
       "      <td>NaN</td>\n",
       "      <td>NaN</td>\n",
       "      <td>NaN</td>\n",
       "      <td>No</td>\n",
       "    </tr>\n",
       "    <tr>\n",
       "      <th>3</th>\n",
       "      <td>The Shining</td>\n",
       "      <td>Stephen King</td>\n",
       "      <td>NaN</td>\n",
       "      <td>9780450040184</td>\n",
       "      <td>paperback</td>\n",
       "      <td>read</td>\n",
       "      <td>2023/11/12</td>\n",
       "      <td>2023/12/27</td>\n",
       "      <td>2023/12/27</td>\n",
       "      <td>1</td>\n",
       "      <td>...</td>\n",
       "      <td>NaN</td>\n",
       "      <td>NaN</td>\n",
       "      <td>NaN</td>\n",
       "      <td>NaN</td>\n",
       "      <td>5.0</td>\n",
       "      <td>NaN</td>\n",
       "      <td>NaN</td>\n",
       "      <td>NaN</td>\n",
       "      <td>NaN</td>\n",
       "      <td>No</td>\n",
       "    </tr>\n",
       "    <tr>\n",
       "      <th>4</th>\n",
       "      <td>Stillhouse Lake</td>\n",
       "      <td>Rachel Caine</td>\n",
       "      <td>NaN</td>\n",
       "      <td>B01MFGX5GI</td>\n",
       "      <td>digital</td>\n",
       "      <td>read</td>\n",
       "      <td>2017/11/07</td>\n",
       "      <td>2023/06/25</td>\n",
       "      <td>2023/06/25</td>\n",
       "      <td>1</td>\n",
       "      <td>...</td>\n",
       "      <td>NaN</td>\n",
       "      <td>NaN</td>\n",
       "      <td>NaN</td>\n",
       "      <td>NaN</td>\n",
       "      <td>4.0</td>\n",
       "      <td>NaN</td>\n",
       "      <td>NaN</td>\n",
       "      <td>NaN</td>\n",
       "      <td>NaN</td>\n",
       "      <td>No</td>\n",
       "    </tr>\n",
       "  </tbody>\n",
       "</table>\n",
       "<p>5 rows × 23 columns</p>\n",
       "</div>"
      ],
      "text/plain": [
       "                                  Title          Authors  \\\n",
       "0  Tomorrow, and Tomorrow, and Tomorrow  Gabrielle Zevin   \n",
       "1                           Dark Matter     Blake Crouch   \n",
       "2               Where the Crawdads Sing      Delia Owens   \n",
       "3                           The Shining     Stephen King   \n",
       "4                       Stillhouse Lake     Rachel Caine   \n",
       "\n",
       "                    Contributors       ISBN/UID     Format Read Status  \\\n",
       "0                            NaN  9780735243354    digital        read   \n",
       "1                            NaN            NaN    digital        read   \n",
       "2  Cassandra Campbell (Narrator)  9780525640370      audio        read   \n",
       "3                            NaN  9780450040184  paperback        read   \n",
       "4                            NaN     B01MFGX5GI    digital        read   \n",
       "\n",
       "   Date Added Last Date Read             Dates Read  Read Count  ...  \\\n",
       "0  2024/10/30     2024/10/30  2024/09/20-2024/10/30           1  ...   \n",
       "1  2023/05/13     2023/12/30             2023/12/30           1  ...   \n",
       "2  2023/12/06     2024/01/30             2024/01/30           1  ...   \n",
       "3  2023/11/12     2023/12/27             2023/12/27           1  ...   \n",
       "4  2017/11/07     2023/06/25             2023/06/25           1  ...   \n",
       "\n",
       "  Strong Character Development? Loveable Characters?  Diverse Characters?  \\\n",
       "0                           NaN                  NaN                  NaN   \n",
       "1                           NaN                  NaN                  NaN   \n",
       "2                           NaN                  NaN                  NaN   \n",
       "3                           NaN                  NaN                  NaN   \n",
       "4                           NaN                  NaN                  NaN   \n",
       "\n",
       "   Flawed Characters? Star Rating Review  Content Warnings  \\\n",
       "0                 NaN         NaN    NaN               NaN   \n",
       "1                 NaN         4.0    NaN               NaN   \n",
       "2                 NaN         5.0    NaN               NaN   \n",
       "3                 NaN         5.0    NaN               NaN   \n",
       "4                 NaN         4.0    NaN               NaN   \n",
       "\n",
       "   Content Warning Description Tags  Owned?  \n",
       "0                          NaN  NaN      No  \n",
       "1                          NaN  NaN      No  \n",
       "2                          NaN  NaN      No  \n",
       "3                          NaN  NaN      No  \n",
       "4                          NaN  NaN      No  \n",
       "\n",
       "[5 rows x 23 columns]"
      ]
     },
     "execution_count": 7,
     "metadata": {},
     "output_type": "execute_result"
    }
   ],
   "source": [
    "df.head()"
   ]
  },
  {
   "cell_type": "code",
   "execution_count": 8,
   "id": "9e833e65-a1ef-44fc-992a-0fc4dc64e3b2",
   "metadata": {},
   "outputs": [
    {
     "name": "stdout",
     "output_type": "stream",
     "text": [
      "(166, 23)\n"
     ]
    }
   ],
   "source": [
    "print(df.shape)"
   ]
  },
  {
   "cell_type": "code",
   "execution_count": 64,
   "id": "ebfc564e-73c2-4d66-bd5d-2dbb04ed558b",
   "metadata": {},
   "outputs": [
    {
     "name": "stdout",
     "output_type": "stream",
     "text": [
      "<class 'pandas.core.frame.DataFrame'>\n",
      "RangeIndex: 166 entries, 0 to 165\n",
      "Data columns (total 23 columns):\n",
      " #   Column                         Non-Null Count  Dtype  \n",
      "---  ------                         --------------  -----  \n",
      " 0   Title                          166 non-null    object \n",
      " 1   Authors                        166 non-null    object \n",
      " 2   Contributors                   20 non-null     object \n",
      " 3   ISBN/UID                       158 non-null    object \n",
      " 4   Format                         166 non-null    object \n",
      " 5   Read Status                    166 non-null    object \n",
      " 6   Date Added                     166 non-null    object \n",
      " 7   Last Date Read                 118 non-null    object \n",
      " 8   Dates Read                     118 non-null    object \n",
      " 9   Read Count                     166 non-null    int64  \n",
      " 10  Moods                          10 non-null     object \n",
      " 11  Pace                           13 non-null     object \n",
      " 12  Character- or Plot-Driven?     0 non-null      float64\n",
      " 13  Strong Character Development?  0 non-null      float64\n",
      " 14  Loveable Characters?           1 non-null      object \n",
      " 15  Diverse Characters?            1 non-null      object \n",
      " 16  Flawed Characters?             0 non-null      float64\n",
      " 17  Star Rating                    129 non-null    float64\n",
      " 18  Review                         14 non-null     object \n",
      " 19  Content Warnings               0 non-null      float64\n",
      " 20  Content Warning Description    0 non-null      float64\n",
      " 21  Tags                           20 non-null     object \n",
      " 22  Owned?                         166 non-null    object \n",
      "dtypes: float64(6), int64(1), object(16)\n",
      "memory usage: 30.0+ KB\n",
      "None\n"
     ]
    }
   ],
   "source": [
    "print(df.info())"
   ]
  },
  {
   "cell_type": "code",
   "execution_count": 65,
   "id": "8eb2d3c2-497e-4aca-860e-034e8e4b19f0",
   "metadata": {},
   "outputs": [],
   "source": [
    "# list of columns to drop\n",
    "\n",
    "columns_to_drop = [\"ISBN/UID\", \"Strong Character Development?\", \"Loveable Characters?\", \"Diverse Characters?\", \"Flawed Characters?\", \"Content Warnings\", \n",
    "                   \"Content Warning Description\", \"Moods\", \"Pace\", \"Character- or Plot-Driven?\"]\n",
    "\n",
    "# cleaned df\n",
    "\n",
    "df_cleaned = df.drop(columns = columns_to_drop)"
   ]
  },
  {
   "cell_type": "code",
   "execution_count": 66,
   "id": "9a182452-0bdf-4f55-b53c-506ad2b3d846",
   "metadata": {},
   "outputs": [
    {
     "name": "stdout",
     "output_type": "stream",
     "text": [
      "<class 'pandas.core.frame.DataFrame'>\n",
      "RangeIndex: 166 entries, 0 to 165\n",
      "Data columns (total 13 columns):\n",
      " #   Column          Non-Null Count  Dtype  \n",
      "---  ------          --------------  -----  \n",
      " 0   Title           166 non-null    object \n",
      " 1   Authors         166 non-null    object \n",
      " 2   Contributors    20 non-null     object \n",
      " 3   Format          166 non-null    object \n",
      " 4   Read Status     166 non-null    object \n",
      " 5   Date Added      166 non-null    object \n",
      " 6   Last Date Read  118 non-null    object \n",
      " 7   Dates Read      118 non-null    object \n",
      " 8   Read Count      166 non-null    int64  \n",
      " 9   Star Rating     129 non-null    float64\n",
      " 10  Review          14 non-null     object \n",
      " 11  Tags            20 non-null     object \n",
      " 12  Owned?          166 non-null    object \n",
      "dtypes: float64(1), int64(1), object(11)\n",
      "memory usage: 17.0+ KB\n",
      "None\n"
     ]
    }
   ],
   "source": [
    "print(df_cleaned.info())"
   ]
  },
  {
   "cell_type": "code",
   "execution_count": 67,
   "id": "450a8506-33f1-48c5-9303-be1da60c13c3",
   "metadata": {},
   "outputs": [
    {
     "name": "stdout",
     "output_type": "stream",
     "text": [
      "['read' 'to-read' 'currently-reading' 'did-not-finish']\n"
     ]
    }
   ],
   "source": [
    "print(df_cleaned[\"Read Status\"].unique())"
   ]
  },
  {
   "cell_type": "code",
   "execution_count": 68,
   "id": "d6110443-4bdb-4568-9a30-4203c42892b8",
   "metadata": {},
   "outputs": [],
   "source": [
    "df_read = df_cleaned[df_cleaned[\"Read Status\"] == \"read\"].copy() # Finished books\n",
    "df_to_read = df_cleaned[df_cleaned[\"Read Status\"] == \"to-read\"].copy() # Books on the wish-list\n",
    "df_currently_reading = df_cleaned[df_cleaned[\"Read Status\"] == \"currently-reading\"].copy() # In-progress books\n",
    "df_dnf = df_cleaned[df_cleaned[\"Read Status\"] == \"did-not-finish\"].copy() # Books you stopped reading"
   ]
  },
  {
   "cell_type": "code",
   "execution_count": 69,
   "id": "99b5d724-4d9b-410b-abf5-3827ca2c9711",
   "metadata": {
    "scrolled": true
   },
   "outputs": [
    {
     "name": "stdout",
     "output_type": "stream",
     "text": [
      "<class 'pandas.core.frame.DataFrame'>\n",
      "Index: 131 entries, 0 to 165\n",
      "Data columns (total 13 columns):\n",
      " #   Column          Non-Null Count  Dtype  \n",
      "---  ------          --------------  -----  \n",
      " 0   Title           131 non-null    object \n",
      " 1   Authors         131 non-null    object \n",
      " 2   Contributors    17 non-null     object \n",
      " 3   Format          131 non-null    object \n",
      " 4   Read Status     131 non-null    object \n",
      " 5   Date Added      131 non-null    object \n",
      " 6   Last Date Read  118 non-null    object \n",
      " 7   Dates Read      118 non-null    object \n",
      " 8   Read Count      131 non-null    int64  \n",
      " 9   Star Rating     129 non-null    float64\n",
      " 10  Review          14 non-null     object \n",
      " 11  Tags            20 non-null     object \n",
      " 12  Owned?          131 non-null    object \n",
      "dtypes: float64(1), int64(1), object(11)\n",
      "memory usage: 14.3+ KB\n",
      "None\n",
      "<class 'pandas.core.frame.DataFrame'>\n",
      "Index: 31 entries, 6 to 160\n",
      "Data columns (total 13 columns):\n",
      " #   Column          Non-Null Count  Dtype  \n",
      "---  ------          --------------  -----  \n",
      " 0   Title           31 non-null     object \n",
      " 1   Authors         31 non-null     object \n",
      " 2   Contributors    1 non-null      object \n",
      " 3   Format          31 non-null     object \n",
      " 4   Read Status     31 non-null     object \n",
      " 5   Date Added      31 non-null     object \n",
      " 6   Last Date Read  0 non-null      object \n",
      " 7   Dates Read      0 non-null      object \n",
      " 8   Read Count      31 non-null     int64  \n",
      " 9   Star Rating     0 non-null      float64\n",
      " 10  Review          0 non-null      object \n",
      " 11  Tags            0 non-null      object \n",
      " 12  Owned?          31 non-null     object \n",
      "dtypes: float64(1), int64(1), object(11)\n",
      "memory usage: 3.4+ KB\n",
      "None\n",
      "<class 'pandas.core.frame.DataFrame'>\n",
      "Index: 3 entries, 28 to 53\n",
      "Data columns (total 13 columns):\n",
      " #   Column          Non-Null Count  Dtype  \n",
      "---  ------          --------------  -----  \n",
      " 0   Title           3 non-null      object \n",
      " 1   Authors         3 non-null      object \n",
      " 2   Contributors    2 non-null      object \n",
      " 3   Format          3 non-null      object \n",
      " 4   Read Status     3 non-null      object \n",
      " 5   Date Added      3 non-null      object \n",
      " 6   Last Date Read  0 non-null      object \n",
      " 7   Dates Read      0 non-null      object \n",
      " 8   Read Count      3 non-null      int64  \n",
      " 9   Star Rating     0 non-null      float64\n",
      " 10  Review          0 non-null      object \n",
      " 11  Tags            0 non-null      object \n",
      " 12  Owned?          3 non-null      object \n",
      "dtypes: float64(1), int64(1), object(11)\n",
      "memory usage: 336.0+ bytes\n",
      "None\n",
      "<class 'pandas.core.frame.DataFrame'>\n",
      "Index: 1 entries, 48 to 48\n",
      "Data columns (total 13 columns):\n",
      " #   Column          Non-Null Count  Dtype  \n",
      "---  ------          --------------  -----  \n",
      " 0   Title           1 non-null      object \n",
      " 1   Authors         1 non-null      object \n",
      " 2   Contributors    0 non-null      object \n",
      " 3   Format          1 non-null      object \n",
      " 4   Read Status     1 non-null      object \n",
      " 5   Date Added      1 non-null      object \n",
      " 6   Last Date Read  0 non-null      object \n",
      " 7   Dates Read      0 non-null      object \n",
      " 8   Read Count      1 non-null      int64  \n",
      " 9   Star Rating     0 non-null      float64\n",
      " 10  Review          0 non-null      object \n",
      " 11  Tags            0 non-null      object \n",
      " 12  Owned?          1 non-null      object \n",
      "dtypes: float64(1), int64(1), object(11)\n",
      "memory usage: 112.0+ bytes\n",
      "None\n"
     ]
    }
   ],
   "source": [
    "print(df_read.info())\n",
    "print(df_to_read.info())\n",
    "print(df_currently_reading.info())\n",
    "print(df_dnf.info())"
   ]
  },
  {
   "cell_type": "code",
   "execution_count": 81,
   "id": "068d9d58-18b2-4609-a9bd-83f5d143ee0f",
   "metadata": {},
   "outputs": [],
   "source": [
    "df_read[\"Star Rating\"] = df_read[\"Star Rating\"].fillna(0)"
   ]
  },
  {
   "cell_type": "code",
   "execution_count": 82,
   "id": "e5e97df8-6e64-488b-8368-ed85c850347e",
   "metadata": {},
   "outputs": [
    {
     "name": "stdout",
     "output_type": "stream",
     "text": [
      "0\n"
     ]
    }
   ],
   "source": [
    "print(df_read[\"Star Rating\"].isna().sum())"
   ]
  },
  {
   "cell_type": "code",
   "execution_count": 85,
   "id": "76fb63fc-1fe4-4de0-a089-3392d1470d33",
   "metadata": {},
   "outputs": [],
   "source": [
    "df_cleaned.loc[df_cleaned[\"Read Status\"] == \"read\", \"Star Rating\"] = df_read[\"Star Rating\"].values"
   ]
  },
  {
   "cell_type": "code",
   "execution_count": 86,
   "id": "4b5b14fb-9d67-4a32-903f-ea2e0da6e843",
   "metadata": {},
   "outputs": [
    {
     "name": "stdout",
     "output_type": "stream",
     "text": [
      "35\n"
     ]
    }
   ],
   "source": [
    "print(df_cleaned[\"Star Rating\"].isna().sum())"
   ]
  },
  {
   "cell_type": "code",
   "execution_count": 88,
   "id": "70d42fa6-f608-493a-8fd8-4773a16191bb",
   "metadata": {},
   "outputs": [],
   "source": [
    "df_cleaned[\"Last Date Read\"] = pd.to_datetime(df_cleaned[\"Last Date Read\"], errors=\"coerce\")"
   ]
  },
  {
   "cell_type": "code",
   "execution_count": 90,
   "id": "d75d300d-7532-484c-99fb-5207eb684cfc",
   "metadata": {},
   "outputs": [
    {
     "name": "stdout",
     "output_type": "stream",
     "text": [
      "Title                     object\n",
      "Authors                   object\n",
      "Contributors              object\n",
      "Format                    object\n",
      "Read Status               object\n",
      "Date Added                object\n",
      "Last Date Read    datetime64[ns]\n",
      "Dates Read                object\n",
      "Read Count                 int64\n",
      "Star Rating              float64\n",
      "Review                    object\n",
      "Tags                      object\n",
      "Owned?                    object\n",
      "dtype: object\n"
     ]
    }
   ],
   "source": [
    "print(df_cleaned.dtypes)"
   ]
  },
  {
   "cell_type": "code",
   "execution_count": 91,
   "id": "1c604ba5-c767-4b1a-b3dd-1e72ae9ada15",
   "metadata": {},
   "outputs": [],
   "source": [
    "df_cleaned.to_csv(\"storygraph_cleaned.csv\", index=False)"
   ]
  },
  {
   "cell_type": "code",
   "execution_count": 92,
   "id": "9b52117a-3c0f-4087-93cf-04ca7ab07606",
   "metadata": {},
   "outputs": [
    {
     "data": {
      "text/plain": [
       "['storygraph.csv', 'storygraph_cleaned.csv']"
      ]
     },
     "execution_count": 92,
     "metadata": {},
     "output_type": "execute_result"
    }
   ],
   "source": [
    "os.listdir()"
   ]
  }
 ],
 "metadata": {
  "kernelspec": {
   "display_name": "Python 3 (ipykernel)",
   "language": "python",
   "name": "python3"
  },
  "language_info": {
   "codemirror_mode": {
    "name": "ipython",
    "version": 3
   },
   "file_extension": ".py",
   "mimetype": "text/x-python",
   "name": "python",
   "nbconvert_exporter": "python",
   "pygments_lexer": "ipython3",
   "version": "3.12.7"
  }
 },
 "nbformat": 4,
 "nbformat_minor": 5
}
